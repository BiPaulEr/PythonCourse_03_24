{
 "cells": [
  {
   "cell_type": "code",
   "execution_count": 12,
   "id": "c0bfbaf3-047d-42fb-8b78-4507b76726ec",
   "metadata": {},
   "outputs": [
    {
     "name": "stdout",
     "output_type": "stream",
     "text": [
      "<_MainThread(MainThread, started 22616)>\n",
      "hello\n",
      "<_MainThread(MainThread, started 22616)>\n",
      "hello\n",
      "threads can only be started once\n",
      "<Thread(Thread-14 (simpler_worker), started 37196)>\n"
     ]
    }
   ],
   "source": [
    "import threading\n",
    "import time\n",
    "def simpler_worker():\n",
    "    print(\"hello\")\n",
    "    time.sleep(2)\n",
    "    print(threading.current_thread())\n",
    "    \n",
    "print(threading.current_thread())\n",
    "simpler_worker()\n",
    "\n",
    "t1 = Thread(target=simpler_worker)\n",
    "t1.start()\n",
    "try:\n",
    "    t1.start()\n",
    "except RuntimeError as e:\n",
    "    print(e)\n"
   ]
  },
  {
   "cell_type": "code",
   "execution_count": 14,
   "id": "0fe04c60-19ec-46e6-800d-6f5d71219e3c",
   "metadata": {},
   "outputs": [
    {
     "name": "stdout",
     "output_type": "stream",
     "text": [
      "Thread-15 (simpler_worker)\n",
      "None\n",
      "False\n",
      "hello\n",
      "Thread-15 (simpler_worker)\n",
      "5792\n",
      "True\n",
      "<Thread(Thread-15 (simpler_worker), started 5792)>\n"
     ]
    }
   ],
   "source": [
    "def info(thread):\n",
    "    print(thread.name)\n",
    "    print(thread.ident)\n",
    "    print(thread.is_alive())\n",
    "    \n",
    "t1 = Thread(target=simpler_worker)\n",
    "info(t1)\n",
    "t1.start()\n",
    "info(t1)"
   ]
  },
  {
   "cell_type": "code",
   "execution_count": 18,
   "id": "305fea87-0772-4dab-bdae-963779321639",
   "metadata": {},
   "outputs": [
    {
     "name": "stdout",
     "output_type": "stream",
     "text": [
      "start point\n",
      "<Thread(Thread-22 (worker), started 21484)>\n",
      "...start asterix\n",
      "<Thread(Thread-23 (worker), started 36556)>\n",
      "*.*.*.*.*.*..****"
     ]
    }
   ],
   "source": [
    "def worker(caractere):\n",
    "    print(threading.current_thread())\n",
    "    for i in range(0, 10):\n",
    "        print(caractere, end=\"\", flush=True)\n",
    "        time.sleep(1)\n",
    "thread_point = Thread(target=worker, args=\".\")\n",
    "thread_asterix = Thread(target=worker, args=\"*\")\n",
    "\n",
    "print(\"start point\")\n",
    "thread_point.start()\n",
    "time.sleep(3)\n",
    "print(\"start asterix\")\n",
    "thread_asterix.start()\n",
    "      "
   ]
  },
  {
   "cell_type": "code",
   "execution_count": 20,
   "id": "3451c27c-e646-41f4-9454-6685f4e6e3ef",
   "metadata": {},
   "outputs": [
    {
     "name": "stdout",
     "output_type": "stream",
     "text": [
      "start point\n",
      "<Thread(Thread-24 (worker), started 41788)>\n",
      "..........start asterix\n",
      "<Thread(Specific N?ame for A thread, started 39080)>\n",
      "**********"
     ]
    }
   ],
   "source": [
    "thread_point = Thread(target=worker, args=\".\")\n",
    "thread_asterix = Thread(name = \"Specific N?ame for A thread\", target=worker, args=\"*\")\n",
    "\n",
    "print(\"start point\")\n",
    "thread_point.start()\n",
    "time.sleep(3)\n",
    "thread_point.join()\n",
    "print(\"start asterix\")\n",
    "thread_asterix.start()"
   ]
  },
  {
   "cell_type": "code",
   "execution_count": 22,
   "id": "9d19788f-23a0-4f38-80af-1374fda50922",
   "metadata": {},
   "outputs": [
    {
     "name": "stdout",
     "output_type": "stream",
     "text": [
      "Thread numero 1 starting wit number 1\n",
      " Type de position = <class 'str'>\n",
      "Type of kwargs <class 'dict'>\n",
      "Value de avec la key color a la valeur red\n",
      "Value de avec la key status a la valeur fail\n",
      "Thread numero 2 starting wit number 2\n",
      " Type de position = <class 'str'>\n",
      "Type of kwargs <class 'dict'>\n",
      "Value de avec la key color a la valeur blue\n",
      "Value de avec la key status a la valeur success\n"
     ]
    }
   ],
   "source": [
    "def worker_args(num , position, **kwargs):\n",
    "    print(f\"Thread {position} starting wit number {num}\")\n",
    "    print(f\" Type de position = {type(position)}\")\n",
    "    print(f\"Type of kwargs {type(kwargs)}\")\n",
    "    for key, value in kwargs.items():\n",
    "        print(f\"Value de avec la key {key} a la valeur {value}\")\n",
    "T1 = Thread(target = worker_args, args = (1, \"numero 1\"), kwargs={\"color\":\"red\", \"status\": \"fail\"})\n",
    "T2 = Thread(target = worker_args, args = (2, \"numero 2\"), kwargs={\"color\":\"blue\", \"status\": \"success\"})\n",
    "T1.start()\n",
    "T1.join()\n",
    "T2.start()\n"
   ]
  },
  {
   "cell_type": "code",
   "execution_count": 29,
   "id": "9d0134c2-2fdc-4bdd-a76c-e3eb7fe10c46",
   "metadata": {},
   "outputs": [
    {
     "name": "stdout",
     "output_type": "stream",
     "text": [
      "Thread-38\n",
      "*Thread-39\n",
      "."
     ]
    }
   ],
   "source": [
    "class WorkerThread(Thread):\n",
    "    def __init__(self, variable = \"*\", target = None, name = None):\n",
    "        super().__init__()\n",
    "        self.variable = variable\n",
    "\n",
    "    def run(self):\n",
    "        print(self.name)\n",
    "        for i in range(0,10):\n",
    "            print(self.variable, end=\"\", flush=True)\n",
    "            time.sleep(1)\n",
    "        global_info_threading()\n",
    "        print(self.name + \" has terminated \")\n",
    "t1 = WorkerThread(\"*\", target = None, name = \"asterix thread\")\n",
    "t2 = WorkerThread(\".\", target = None, name = \"point thread\")\n",
    "t1.start()\n",
    "t2.start()"
   ]
  },
  {
   "cell_type": "code",
   "execution_count": 30,
   "id": "ce0fbcb5-8d19-47d6-82ea-9fb39daafdb9",
   "metadata": {},
   "outputs": [
    {
     "name": "stdout",
     "output_type": "stream",
     "text": [
      "Number thread actif 8\n",
      "Current Thread <_MainThread(MainThread, started 22616)>\n",
      " Intend : 22616\n",
      "Thread-40\n",
      "**.Number thread actif 9*\n",
      "Current Thread <_MainThread(MainThread, started 22616)>\n",
      " Intend : 22616\n",
      ".***.**.*.***.**.*.**.**Number thread actif 9\n",
      "Current Thread <WorkerThread(Thread-38, started 39596)>\n",
      " Intend : 39596\n",
      "Thread-38 has terminated \n",
      "Number thread actif 8\n",
      "Current Thread <WorkerThread(Thread-39, started 1752)>\n",
      " Intend : 1752\n",
      "Thread-39 has terminated \n",
      "Number thread actif 7\n",
      "Current Thread <WorkerThread(Thread-40, started 36556)>\n",
      " Intend : 36556\n",
      "Thread-40 has terminated \n"
     ]
    }
   ],
   "source": [
    "def global_info_threading():\n",
    "    print(f\"Number thread actif {threading.active_count()}\")\n",
    "    print(f\"Current Thread {threading.current_thread()}\")\n",
    "    print(f\" Intend : {threading.get_ident()}\")\n",
    "    \n",
    "t1 = WorkerThread(\"*\", target = None, name = \"asterix thread\") \n",
    "global_info_threading()\n",
    "t1.start()\n",
    "time.sleep(1)\n",
    "global_info_threading()\n",
    "threading.enumerate()"
   ]
  },
  {
   "cell_type": "markdown",
   "id": "0935bb4d-5dff-4e46-a93f-eda2179d5e7e",
   "metadata": {},
   "source": [
    "# local"
   ]
  },
  {
   "cell_type": "code",
   "execution_count": 37,
   "id": "068a3a44-22d4-41ef-908e-eccaf29757a2",
   "metadata": {},
   "outputs": [
    {
     "name": "stdout",
     "output_type": "stream",
     "text": [
      "Thread numero 0 has value None \n",
      "\n",
      "Thread numero 0 has value 71 \n",
      "\n",
      "Thread numero 1 has value 71 \n",
      "\n",
      "Thread numero 1 has value 83 \n",
      "\n",
      "Thread numero 0 has value 83 \n",
      "\n",
      "Thread numero 1 has value 83 \n",
      "\n"
     ]
    }
   ],
   "source": [
    "from random import randint\n",
    "\n",
    "class SharedData:\n",
    "    value = None\n",
    "\n",
    "def show_value(data):\n",
    "    try:\n",
    "        val = data.value\n",
    "    except AttributeError:\n",
    "        print(f\"{threading.current_thread().name} has no value for val\")\n",
    "    else:\n",
    "        print(f\"{threading.current_thread().name} has value {val} \\n\" )\n",
    "        \n",
    "shared_data = SharedData()\n",
    "#show_value(shared_data)\n",
    "\n",
    "def worker(data):\n",
    "    show_value(data)\n",
    "    data.value = randint(1, 100)\n",
    "    show_value(data)\n",
    "    time.sleep(2)\n",
    "    show_value(data)\n",
    "\n",
    "for i in range (0, 2):\n",
    "    name = \"Thread numero \" + str(i)\n",
    "    t = Thread(name=name, target=worker, args=(shared_data,))\n",
    "    t.start()\n",
    "\n",
    "    "
   ]
  },
  {
   "cell_type": "code",
   "execution_count": 38,
   "id": "fb633511-9d99-4647-8260-d4dd3ca6de17",
   "metadata": {},
   "outputs": [
    {
     "name": "stdout",
     "output_type": "stream",
     "text": [
      "Thread numero 0 has no value for val\n",
      "Thread numero 0 has value 54 \n",
      "\n",
      "Thread numero 1 has no value for val\n",
      "Thread numero 1 has value 4 \n",
      "\n",
      "Thread numero 0 has value 54 \n",
      "\n",
      "Thread numero 1 has value 4 \n",
      "\n"
     ]
    }
   ],
   "source": [
    "from threading import local \n",
    "local_value = local()\n",
    "for i in range (0, 2):\n",
    "    name = \"Thread numero \" + str(i)\n",
    "    t = Thread(name=name, target=worker, args=(local_value,))\n",
    "    t.start()"
   ]
  },
  {
   "cell_type": "code",
   "execution_count": null,
   "id": "098d88fb-57e5-49a6-9f79-f3c9bceafc9d",
   "metadata": {},
   "outputs": [],
   "source": [
    "class Image:\n",
    "    value = \"Image.jpg\"\n",
    "    \n",
    "local_value = Class \n",
    "\n",
    "def worker(data, img):\n",
    "    data.image = img.copy()\n",
    "    show_value(data)\n",
    "    data.value = randint(1, 100)\n",
    "    show_value(data)\n",
    "    time.sleep(2)\n",
    "    show_value(data)    \n",
    "    \n",
    " for i in range (0, 2):\n",
    "    name = \"Thread numero \" + str(i)\n",
    "    t = Thread(name=name, target=worker, args=(local_value, img))\n",
    "    t.start()   "
   ]
  },
  {
   "cell_type": "code",
   "execution_count": 19,
   "id": "61223025-1009-4f3a-aae1-db051c6e5aba",
   "metadata": {},
   "outputs": [
    {
     "name": "stderr",
     "output_type": "stream",
     "text": [
      "Exception in thread Exception in thread Thread-42:\n",
      "Traceback (most recent call last):\n",
      "  File \"C:\\Users\\PaulE\\AppData\\Local\\Programs\\Python\\Python312\\Lib\\threading.py\", line 1052, in _bootstrap_inner\n",
      "Thread-41:\n",
      "Traceback (most recent call last):\n",
      "  File \"C:\\Users\\PaulE\\AppData\\Local\\Programs\\Python\\Python312\\Lib\\threading.py\", line 1052, in _bootstrap_inner\n",
      "    self.run()\n",
      "  File \"C:\\Users\\PaulE\\AppData\\Local\\Temp\\ipykernel_25160\\466157535.py\", line 10, in run\n",
      "    self.run()\n",
      "  File \"C:\\Users\\PaulE\\AppData\\Local\\Temp\\ipykernel_25160\\466157535.py\", line 10, in run\n",
      "AttributeError: '_thread._local' object has no attribute 'value'\n",
      "AttributeError: '_thread._local' object has no attribute 'value'\n"
     ]
    },
    {
     "name": "stdout",
     "output_type": "stream",
     "text": [
      "Je suis la donnée importante\n"
     ]
    }
   ],
   "source": [
    "from threading import Thread, local\n",
    "\n",
    "class StringProcessor(Thread):\n",
    "    def __init__(self, action, local_data):\n",
    "        super().__init__()\n",
    "        self.action = action\n",
    "        self.local_data = local_data\n",
    "        \n",
    "    def run(self):\n",
    "        original_value = self.local_data.value\n",
    "        \n",
    "        if self.action == \"upper\":\n",
    "            local_value.value = original_value.upper()\n",
    "        elif self.action == \"lower\":\n",
    "            local_value.value = original_value.lower()\n",
    "            \n",
    "        print(f\"Original {original_value} -> {local_value.value}\\n\")\n",
    "\n",
    "class DonneeImportante:\n",
    "    def __init__(self):\n",
    "        self.value = \"Je suis la donnée importante\"\n",
    "\n",
    "donnee = DonneeImportante()\n",
    "local_data = local()\n",
    "\n",
    "\n",
    "local_data.value = donnee.value\n",
    "print(local_data.value)\n",
    "thread1 = StringProcessor(\"upper\", local_data)\n",
    "thread2 = StringProcessor(\"lower\", local_data)\n",
    "\n",
    "thread1.start()\n",
    "thread2.start()\n",
    "\n",
    "thread1.join()\n",
    "thread2.join()"
   ]
  },
  {
   "cell_type": "code",
   "execution_count": 20,
   "id": "800bb131-aa87-4fb2-b018-7f76fbf1aa58",
   "metadata": {},
   "outputs": [
    {
     "name": "stdout",
     "output_type": "stream",
     "text": [
      "<_thread._local object at 0x00000281C879D6C0>\n",
      "Je suis la donnée importante\n",
      "Original Je suis la donnée importante -> JE SUIS LA DONNÉE IMPORTANTE\n",
      "\n",
      "Original Je suis la donnée importante -> je suis la donnée importante\n",
      "\n"
     ]
    }
   ],
   "source": [
    "from threading import Thread, local\n",
    "\n",
    "class StringProcessor(Thread):\n",
    "    def __init__(self, action, local_data,value):\n",
    "        super().__init__()\n",
    "        self.action = action\n",
    "        self.local_data_value = value\n",
    "        self.local_data = local_data\n",
    "        \n",
    "    def run(self):\n",
    "        self.local_data.value = self.local_data_value\n",
    "        original_value = self.local_data.value  #not working local data as no value in it\n",
    "        \n",
    "        if self.action == \"upper\":\n",
    "            self.local_data.value = original_value.upper()\n",
    "        elif self.action == \"lower\":\n",
    "            self.local_data.value = original_value.lower()\n",
    "            \n",
    "        print(f\"Original {original_value} -> {self.local_data.value}\\n\")\n",
    "\n",
    "class DonneeImportante:\n",
    "    def __init__(self):\n",
    "        self.value = \"Je suis la donnée importante\"\n",
    "\n",
    "donnee = DonneeImportante()\n",
    "local_data = local()  \n",
    "print(local_data)\n",
    "\n",
    "\n",
    "local_data.value = donnee.value\n",
    "print(local_data.value)\n",
    "\n",
    "thread1 = StringProcessor(\"upper\", local_data, donnee.value)\n",
    "thread2 = StringProcessor(\"lower\", local_data, donnee.value)\n",
    "\n",
    "thread1.start()\n",
    "thread2.start()\n",
    "\n",
    "thread1.join()\n",
    "thread2.join()"
   ]
  },
  {
   "cell_type": "code",
   "execution_count": null,
   "id": "451ef359-8d22-4a45-9c81-591ac064a29e",
   "metadata": {},
   "outputs": [],
   "source": []
  }
 ],
 "metadata": {
  "kernelspec": {
   "display_name": "Python 3 (ipykernel)",
   "language": "python",
   "name": "python3"
  },
  "language_info": {
   "codemirror_mode": {
    "name": "ipython",
    "version": 3
   },
   "file_extension": ".py",
   "mimetype": "text/x-python",
   "name": "python",
   "nbconvert_exporter": "python",
   "pygments_lexer": "ipython3",
   "version": "3.12.0"
  }
 },
 "nbformat": 4,
 "nbformat_minor": 5
}
