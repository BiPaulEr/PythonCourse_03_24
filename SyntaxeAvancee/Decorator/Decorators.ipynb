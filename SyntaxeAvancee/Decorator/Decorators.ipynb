{
 "cells": [
  {
   "cell_type": "code",
   "execution_count": 1,
   "id": "afaf8f3c-bebc-4ac3-a52e-a8a616605eb9",
   "metadata": {},
   "outputs": [
    {
     "name": "stdout",
     "output_type": "stream",
     "text": [
      " Avant l'appel de la fonction\n",
      "Je suis la fonction principale\n",
      " Après l'appel de la fonction\n"
     ]
    }
   ],
   "source": [
    "def simpledecorateur(function):\n",
    "    def wrapper():\n",
    "        print(\" Avant l'appel de la fonction\")\n",
    "        function()\n",
    "        print(\" Après l'appel de la fonction\")\n",
    "    return wrapper\n",
    "    \n",
    "def function_principale():\n",
    "    print(\"Je suis la fonction principale\")\n",
    "    \n",
    "decorated_function = simpledecorateur(function_principale)\n",
    "decorated_function()"
   ]
  },
  {
   "cell_type": "code",
   "execution_count": 3,
   "id": "bcb66461-9713-43cb-84f0-508ecc6c8e45",
   "metadata": {},
   "outputs": [
    {
     "name": "stdout",
     "output_type": "stream",
     "text": [
      "Je suis la fonction principale\n"
     ]
    }
   ],
   "source": [
    "@simpledecorateur\n",
    "def function_principalev2():\n",
    "    print(\"Je suis la fonction principale\")\n",
    "\n",
    "function_principalev2()"
   ]
  },
  {
   "cell_type": "code",
   "execution_count": 4,
   "id": "6752368d-c628-4977-85e8-12361dd0d617",
   "metadata": {},
   "outputs": [],
   "source": [
    "@simpledecorateur\n",
    "def test(argument):\n",
    "    print(argument)\n"
   ]
  },
  {
   "cell_type": "code",
   "execution_count": 5,
   "id": "f2e7b545-a324-4655-88a4-44cb2531c243",
   "metadata": {},
   "outputs": [
    {
     "ename": "TypeError",
     "evalue": "simpledecorateur.<locals>.wrapper() takes 0 positional arguments but 1 was given",
     "output_type": "error",
     "traceback": [
      "\u001b[1;31m---------------------------------------------------------------------------\u001b[0m",
      "\u001b[1;31mTypeError\u001b[0m                                 Traceback (most recent call last)",
      "Cell \u001b[1;32mIn[5], line 1\u001b[0m\n\u001b[1;32m----> 1\u001b[0m \u001b[43mtest\u001b[49m\u001b[43m(\u001b[49m\u001b[38;5;124;43m\"\u001b[39;49m\u001b[38;5;124;43mEst ce que cela marche ?\u001b[39;49m\u001b[38;5;124;43m\"\u001b[39;49m\u001b[43m)\u001b[49m\n",
      "\u001b[1;31mTypeError\u001b[0m: simpledecorateur.<locals>.wrapper() takes 0 positional arguments but 1 was given"
     ]
    }
   ],
   "source": [
    "test(\"Est ce que cela marche ?\")"
   ]
  },
  {
   "cell_type": "code",
   "execution_count": 6,
   "id": "ce060b4e-f350-4922-ab49-aeb823e59600",
   "metadata": {},
   "outputs": [
    {
     "name": "stdout",
     "output_type": "stream",
     "text": [
      " Avant l'appel de la fonction\n",
      "3O\n",
      " Après l'appel de la fonction\n"
     ]
    }
   ],
   "source": [
    "def simpledecorateur_with_args_kwargs(function):\n",
    "    def wrapper(*args, **kwargs):\n",
    "        print(\" Avant l'appel de la fonction\")\n",
    "        function(*args, **kwargs)\n",
    "        print(\" Après l'appel de la fonction\")\n",
    "    return wrapper\n",
    "\n",
    "@simpledecorateur_with_args_kwargs\n",
    "def test2(argument):\n",
    "    print(argument)\n",
    "\n",
    "test2(\"3O\")"
   ]
  },
  {
   "cell_type": "code",
   "execution_count": 9,
   "id": "a4e6e0dd-197b-40cd-a285-54550fc851df",
   "metadata": {},
   "outputs": [
    {
     "name": "stdout",
     "output_type": "stream",
     "text": [
      " Je suis dans la classse, avant l'appel\n",
      "Je suis test 3\n",
      " Je suis dans la classse, après l'appel\n"
     ]
    }
   ],
   "source": [
    "class DecoratorAsClass:\n",
    "    def __init__(self, function):\n",
    "        self.function = function\n",
    "        \n",
    "    def __call__(self, *args, **kwargs):\n",
    "        print(\" Je suis dans la classse, avant l'appel\")\n",
    "        result = self.function(*args, **kwargs)\n",
    "        print(\" Je suis dans la classse, après l'appel\")\n",
    "        return result\n",
    "\n",
    "@DecoratorAsClass\n",
    "def test3(argument):\n",
    "    print(argument)\n",
    "\n",
    "test3(\"Je suis test 3\")"
   ]
  },
  {
   "cell_type": "code",
   "execution_count": 11,
   "id": "711c651f-a08b-46e9-a0ae-4bb4d74e4c1b",
   "metadata": {},
   "outputs": [
    {
     "name": "stdout",
     "output_type": "stream",
     "text": [
      " J'ai été appelée\n",
      " J'ai été appelée\n",
      " J'ai été appelée\n"
     ]
    }
   ],
   "source": [
    "def repeat_decorator(function):\n",
    "    def wrapper(*args, **kwargs):\n",
    "        result = None\n",
    "        for i in range(0,3):\n",
    "            result = function(*args, **kwargs)\n",
    "        return result\n",
    "    return wrapper\n",
    "\n",
    "@repeat_decorator\n",
    "def test5():\n",
    "    print(\" J'ai été appelée\")\n",
    "\n",
    "test5()\n",
    "    "
   ]
  },
  {
   "cell_type": "code",
   "execution_count": 13,
   "id": "9c8e7d64-d7c1-4b86-9dcf-3822d9957350",
   "metadata": {},
   "outputs": [
    {
     "name": "stdout",
     "output_type": "stream",
     "text": [
      "J'ai été appelée\n",
      "J'ai été appelée\n",
      "J'ai été appelée\n"
     ]
    }
   ],
   "source": [
    "def repeat(number):\n",
    "    def repeat_decorator(function):\n",
    "        def wrapper(*args, **kwargs):\n",
    "            result = None\n",
    "            for i in range(0,number):\n",
    "                result = function(*args, **kwargs)\n",
    "            return result\n",
    "        return wrapper\n",
    "    return repeat_decorator\n",
    "\n",
    "@repeat(3)\n",
    "def test6():\n",
    "    print(\"J'ai été appelée\")\n",
    "\n",
    "test6()\n",
    "    "
   ]
  },
  {
   "cell_type": "code",
   "execution_count": 16,
   "id": "6485bcd1-1a7d-44b2-8126-29605b3633bd",
   "metadata": {},
   "outputs": [
    {
     "ename": "TypeError",
     "evalue": "repeat2.<locals>.repeat_decorator() missing 1 required positional argument: 'function'",
     "output_type": "error",
     "traceback": [
      "\u001b[1;31m---------------------------------------------------------------------------\u001b[0m",
      "\u001b[1;31mTypeError\u001b[0m                                 Traceback (most recent call last)",
      "Cell \u001b[1;32mIn[16], line 15\u001b[0m\n\u001b[0;32m     11\u001b[0m \u001b[38;5;129m@repeat2\u001b[39m\n\u001b[0;32m     12\u001b[0m \u001b[38;5;28;01mdef\u001b[39;00m \u001b[38;5;21mtest7\u001b[39m():\n\u001b[0;32m     13\u001b[0m     \u001b[38;5;28mprint\u001b[39m(\u001b[38;5;124m\"\u001b[39m\u001b[38;5;124mJ\u001b[39m\u001b[38;5;124m'\u001b[39m\u001b[38;5;124mai été appelée\u001b[39m\u001b[38;5;124m\"\u001b[39m)\n\u001b[1;32m---> 15\u001b[0m \u001b[43mtest7\u001b[49m\u001b[43m(\u001b[49m\u001b[43m)\u001b[49m\n",
      "\u001b[1;31mTypeError\u001b[0m: repeat2.<locals>.repeat_decorator() missing 1 required positional argument: 'function'"
     ]
    }
   ],
   "source": [
    "def repeat2(number = 3):\n",
    "    def repeat_decorator(function):\n",
    "        def wrapper(*args, **kwargs):\n",
    "            result = None\n",
    "            for i in range(0,number):\n",
    "                result = function(*args, **kwargs)\n",
    "            return result\n",
    "        return wrapper\n",
    "    return repeat_decorator\n",
    "\n",
    "@repeat2\n",
    "def test7():\n",
    "    print(\"J'ai été appelée\")\n",
    "\n",
    "test7()"
   ]
  },
  {
   "cell_type": "code",
   "execution_count": 21,
   "id": "26bf8dcf-46d9-48de-a7e7-10131eccf88a",
   "metadata": {},
   "outputs": [
    {
     "name": "stdout",
     "output_type": "stream",
     "text": [
      "Internal wrapper documentation\n"
     ]
    }
   ],
   "source": [
    "def dummy_decorator(function):\n",
    "    def wrapper(*args, **kwargs):\n",
    "        \"\"\"Internal wrapper documentation\"\"\"\n",
    "        function(*args, **kwargs)\n",
    "    return wrapper\n",
    "\n",
    "@dummy_decorator\n",
    "def test8():\n",
    "    \"\"\" DOCUMENTATION SUPER IMPORTANTE \"\"\"\n",
    "    print(\" test 8 \")\n",
    "\n",
    "print(test8.__doc__)"
   ]
  },
  {
   "cell_type": "code",
   "execution_count": 23,
   "id": "9349b8f3-aafd-4729-9f20-91e141791527",
   "metadata": {},
   "outputs": [
    {
     "name": "stdout",
     "output_type": "stream",
     "text": [
      " DOCUMENTATION SUPER IMPORTANTE \n"
     ]
    }
   ],
   "source": [
    "from functools import wraps\n",
    "\n",
    "def repeat_decorator(function):\n",
    "    @wraps(function)\n",
    "    def wrapper(*args, **kwargs):\n",
    "        \"\"\"Internal wrapper documentation\"\"\"\n",
    "        function(*args, **kwargs)\n",
    "    return wrapper\n",
    "\n",
    "@repeat_decorator\n",
    "def test9():\n",
    "    \"\"\" DOCUMENTATION SUPER IMPORTANTE \"\"\"\n",
    "    print(\" test 9 \")\n",
    "\n",
    "print(test9.__doc__)"
   ]
  },
  {
   "cell_type": "code",
   "execution_count": 25,
   "id": "2e2704a1-67a9-4f8b-8523-efcd77c7c9d1",
   "metadata": {},
   "outputs": [
    {
     "name": "stdout",
     "output_type": "stream",
     "text": [
      "{'__wrapped__': <function test9 at 0x00000239B1DFAFC0>}\n",
      "{}\n"
     ]
    }
   ],
   "source": [
    "print(test9.__dict__)\n",
    "def test10():\n",
    "    \"\"\" DOCUMENTATION SUPER IMPORTANTE \"\"\"\n",
    "    print(\" test 9 \")\n",
    "print(test10.__dict__)"
   ]
  },
  {
   "cell_type": "code",
   "execution_count": 37,
   "id": "feca7acc-2f3c-4787-af6a-232e6534b0f5",
   "metadata": {},
   "outputs": [
    {
     "name": "stdout",
     "output_type": "stream",
     "text": [
      "{}\n",
      "fonction_lourde, 3, 5, donne une clé de : f8a9302b625fdb422e3a8b6b549f1bc8498c069c\n",
      "Resultat pas cache\n",
      "8\n",
      "{'f8a9302b625fdb422e3a8b6b549f1bc8498c069c': 8}\n"
     ]
    }
   ],
   "source": [
    "cache = {}\n",
    "import pickle\n",
    "import hashlib\n",
    "import time \n",
    "\n",
    "def compute_key(function, args, kwargs):\n",
    "    key = pickle.dumps((function.__name__, args, kwargs))\n",
    "    index = hashlib.sha1(key).hexdigest()\n",
    "    print(f\"{function.__name__}, {args}, {kwargs}, donne une clé de : {index}\")\n",
    "    return index\n",
    "\n",
    "def memorise(function):\n",
    "    def _merosise(*args, **kwargs):\n",
    "        key = compute_key(function, *args, **kwargs)\n",
    "        if (key in cache):\n",
    "            print(\"Resultat deja cache\")\n",
    "            return cache[key]\n",
    "        print(\"Resultat pas cache\")\n",
    "        result = function(*args, **kwargs)\n",
    "        cache[key] = result\n",
    "        return result\n",
    "    return _merosise\n",
    "    \n",
    "@memorise\n",
    "def fonction_lourde(a, b):\n",
    "    time.sleep(2)\n",
    "    return a + b\n",
    "    \n",
    "print(cache)\n",
    "\n",
    "print(fonction_lourde(3, 5))\n",
    "\n",
    "print(cache)"
   ]
  },
  {
   "cell_type": "code",
   "execution_count": 38,
   "id": "8656f686-302e-4a85-aa65-4c3912024812",
   "metadata": {},
   "outputs": [
    {
     "name": "stdout",
     "output_type": "stream",
     "text": [
      "fonction_lourde, 3, 5, donne une clé de : f8a9302b625fdb422e3a8b6b549f1bc8498c069c\n",
      "Resultat deja cache\n",
      "8\n",
      "{'f8a9302b625fdb422e3a8b6b549f1bc8498c069c': 8}\n"
     ]
    }
   ],
   "source": [
    "print(fonction_lourde(3, 5))\n",
    "print(cache)"
   ]
  },
  {
   "cell_type": "code",
   "execution_count": 39,
   "id": "6f8dd808-35d4-4a39-a2c4-d3ce4405ae1f",
   "metadata": {},
   "outputs": [
    {
     "name": "stdout",
     "output_type": "stream",
     "text": [
      "fonction_lourde, 3, 6, donne une clé de : 5a0faf89087e7c278f0618a2cc6d926b33c60e40\n",
      "Resultat pas cache\n",
      "9\n",
      "{'f8a9302b625fdb422e3a8b6b549f1bc8498c069c': 8, '5a0faf89087e7c278f0618a2cc6d926b33c60e40': 9}\n"
     ]
    }
   ],
   "source": [
    "print(fonction_lourde(3, 6))\n",
    "print(cache)"
   ]
  },
  {
   "cell_type": "code",
   "execution_count": 40,
   "id": "b933d24f-82f0-42f1-8850-9b28f99edc2b",
   "metadata": {},
   "outputs": [
    {
     "name": "stdout",
     "output_type": "stream",
     "text": [
      "fonction_lourde, 5, 3, donne une clé de : 9ab0b555f8cdd084d06c2d9057e8309ae69f2c93\n",
      "Resultat pas cache\n",
      "8\n",
      "{'f8a9302b625fdb422e3a8b6b549f1bc8498c069c': 8, '5a0faf89087e7c278f0618a2cc6d926b33c60e40': 9, '9ab0b555f8cdd084d06c2d9057e8309ae69f2c93': 8}\n"
     ]
    }
   ],
   "source": [
    "print(fonction_lourde(5, 3))\n",
    "print(cache)"
   ]
  },
  {
   "cell_type": "code",
   "execution_count": 43,
   "id": "0fe74000-7bd7-473b-88ca-937fd7a33941",
   "metadata": {},
   "outputs": [
    {
     "name": "stdout",
     "output_type": "stream",
     "text": [
      "{}\n",
      "fonction_lourde, 3, 5, donne une clé de : f8a9302b625fdb422e3a8b6b549f1bc8498c069c\n",
      "Resultat pas cache\n",
      "8\n",
      "fonction_lourde, 3, 5, donne une clé de : f8a9302b625fdb422e3a8b6b549f1bc8498c069c\n",
      "Resultat deja cache\n",
      "8\n",
      "{'f8a9302b625fdb422e3a8b6b549f1bc8498c069c': {'value': 8, 'time': 1710165466.8545485}}\n"
     ]
    }
   ],
   "source": [
    "cache = {}\n",
    "\n",
    "def is_obsolete(entry, duration):\n",
    "    return (time.time() - entry) > duration\n",
    "    \n",
    "def memorise_obsolete(time_to_be_obsolete):\n",
    "    def memorise(function):\n",
    "        def _merosise(*args, **kwargs):\n",
    "            key = compute_key(function, *args, **kwargs)\n",
    "            if (key in cache and not is_obsolete(cache[key][\"time\"], time_to_be_obsolete)):\n",
    "                print(\"Resultat deja cache\")\n",
    "                return cache[key][\"value\"]\n",
    "            print(\"Resultat pas cache\")\n",
    "            result = function(*args, **kwargs)\n",
    "            cache[key] = {\"value\" : result, \"time\":time.time()}\n",
    "            return result\n",
    "        return _merosise\n",
    "    return memorise\n",
    "\n",
    "@memorise_obsolete(5)\n",
    "def fonction_lourde(a, b):\n",
    "    time.sleep(2)\n",
    "    return a + b\n",
    "    \n",
    "print(cache)\n",
    "\n",
    "print(fonction_lourde(3, 5))\n",
    "print(fonction_lourde(3, 5))\n",
    "print(cache)"
   ]
  },
  {
   "cell_type": "code",
   "execution_count": 44,
   "id": "3e9b31e1-3845-4847-bb18-26550c78eec1",
   "metadata": {},
   "outputs": [
    {
     "name": "stdout",
     "output_type": "stream",
     "text": [
      "fonction_lourde, 3, 5, donne une clé de : f8a9302b625fdb422e3a8b6b549f1bc8498c069c\n",
      "Resultat pas cache\n",
      "8\n",
      "{'f8a9302b625fdb422e3a8b6b549f1bc8498c069c': {'value': 8, 'time': 1710165492.8998284}}\n"
     ]
    }
   ],
   "source": [
    "print(fonction_lourde(3, 5))\n",
    "print(cache)"
   ]
  },
  {
   "cell_type": "code",
   "execution_count": 45,
   "id": "b40e1484-fd73-4d6d-8a8c-783c562df6e5",
   "metadata": {},
   "outputs": [
    {
     "name": "stdout",
     "output_type": "stream",
     "text": [
      "fonction_lourde, 4, 5, donne une clé de : 1276efa74aa9f7bb8b64e0f287053b678b386807\n",
      "Resultat pas cache\n",
      "9\n",
      "{'f8a9302b625fdb422e3a8b6b549f1bc8498c069c': {'value': 8, 'time': 1710165492.8998284}, '1276efa74aa9f7bb8b64e0f287053b678b386807': {'value': 9, 'time': 1710165510.9061773}}\n"
     ]
    }
   ],
   "source": [
    "print(fonction_lourde(4, 5))\n",
    "print(cache)"
   ]
  },
  {
   "cell_type": "code",
   "execution_count": null,
   "id": "4fd77473-1b75-4172-b6c5-2ca98e17c3ae",
   "metadata": {},
   "outputs": [],
   "source": [
    "import threading import RLock\n",
    "lock = RLock()\n",
    "\n",
    "def synchronized(function):\n",
    "    def _synchronized(*args, **kwargs):\n",
    "        lock.acquire()\n",
    "        try :\n",
    "            return function(*args, **kwaergs)\n",
    "        finally:\n",
    "            lock.release()\n",
    "    return _synchronized\n",
    "\n",
    "@synchronized\n",
    "def thread_safe():\n",
    "    print(\"Je sui à l'intérieur\")\n",
    "\n",
    "thread_safe("
   ]
  }
 ],
 "metadata": {
  "kernelspec": {
   "display_name": "Python 3 (ipykernel)",
   "language": "python",
   "name": "python3"
  },
  "language_info": {
   "codemirror_mode": {
    "name": "ipython",
    "version": 3
   },
   "file_extension": ".py",
   "mimetype": "text/x-python",
   "name": "python",
   "nbconvert_exporter": "python",
   "pygments_lexer": "ipython3",
   "version": "3.12.0"
  }
 },
 "nbformat": 4,
 "nbformat_minor": 5
}
