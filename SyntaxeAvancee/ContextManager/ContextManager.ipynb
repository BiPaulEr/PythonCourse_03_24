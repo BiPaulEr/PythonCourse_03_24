{
 "cells": [
  {
   "cell_type": "code",
   "execution_count": 1,
   "id": "28fa582c-3e78-4e47-a4ac-5ffd1a00c69a",
   "metadata": {},
   "outputs": [
    {
     "name": "stdout",
     "output_type": "stream",
     "text": [
      "Line 1 / 5\n",
      "Line 2 / 5\n",
      "Line 3 / 5\n",
      "Line 4 / 5\n",
      "Line 5 / 5\n",
      "END\n"
     ]
    }
   ],
   "source": [
    "file = open(\"./fichier.txt\")\n",
    "try:\n",
    "    for line in file:\n",
    "        print(line.strip())\n",
    "finally:\n",
    "    file.close()"
   ]
  },
  {
   "cell_type": "code",
   "execution_count": 2,
   "id": "7cae0a4b-7413-4689-b850-db3f35a52837",
   "metadata": {},
   "outputs": [
    {
     "name": "stdout",
     "output_type": "stream",
     "text": [
      "Line 1 / 5\n",
      "Line 2 / 5\n",
      "Line 3 / 5\n",
      "Line 4 / 5\n",
      "Line 5 / 5\n",
      "END\n"
     ]
    }
   ],
   "source": [
    "with open(\"./fichier.txt\") as file:\n",
    "    for line in file:\n",
    "        print(line.strip())\n",
    "    "
   ]
  },
  {
   "cell_type": "code",
   "execution_count": 12,
   "id": "8b928e90-48c0-4c05-815c-804b6908c4c3",
   "metadata": {},
   "outputs": [
    {
     "name": "stdout",
     "output_type": "stream",
     "text": [
      "J'entre dans le contexte\n",
      "Return enter\n",
      "Je quitte le contexte\n",
      "Error with Prombleme dans le code\n",
      "<traceback object at 0x00000185FDDD8B80>\n",
      "<frame at 0x00000185FD83F7C0, file 'C:\\\\Users\\\\PaulE\\\\AppData\\\\Local\\\\Temp\\\\ipykernel_32800\\\\3070832516.py', line 15, code <module>>\n"
     ]
    }
   ],
   "source": [
    "class DemonstrationContext():\n",
    "    def __enter__(self):\n",
    "        print(\"J'entre dans le contexte\")\n",
    "        return \"Return enter\"\n",
    "    def __exit__(self, exc_type, exc_value, traceback):\n",
    "        print(\"Je quitte le contexte\")\n",
    "        if (exc_type is None):\n",
    "            print(\"no problem\")\n",
    "        else:\n",
    "            print(f\"Error with {exc_value}\")\n",
    "            print(f\"{traceback}\")\n",
    "            print(f\"{traceback.tb_frame}\")\n",
    "        return True\n",
    "\n",
    "with DemonstrationContext() as string_enter:\n",
    "    print(string_enter)\n",
    "    raise TypeError(\"Prombleme dans le code\")\n",
    "    \n",
    "        "
   ]
  },
  {
   "cell_type": "code",
   "execution_count": 14,
   "id": "e8fd4f76-2321-4aa3-a82b-d292e51f39bc",
   "metadata": {},
   "outputs": [
    {
     "name": "stdout",
     "output_type": "stream",
     "text": [
      "normal\n",
      "USe quelqueschoese\n",
      "temporatoire\n",
      "normal\n"
     ]
    }
   ],
   "source": [
    "class Config:\n",
    "    etat = \"normal\"\n",
    "\n",
    "config = Config()\n",
    "print(config.etat)\n",
    "etat_currant = config.etat\n",
    "try:\n",
    "    config.etat = \"temporatoire\"\n",
    "    print(\"USe quelqueschoese\")\n",
    "    print(config.etat)\n",
    "finally:\n",
    "    config.etat = etat_currant\n",
    "\n",
    "print(config.etat)\n"
   ]
  },
  {
   "cell_type": "code",
   "execution_count": 16,
   "id": "8bcdd372-7a76-4550-bc38-1a8e14ec5a00",
   "metadata": {},
   "outputs": [
    {
     "name": "stdout",
     "output_type": "stream",
     "text": [
      "normal\n",
      "Actif\n",
      " a lintérieur \n",
      "rEstauré\n",
      "Actif\n",
      " a lintérieur \n",
      "rEstauré\n"
     ]
    }
   ],
   "source": [
    "class ConfigManager:\n",
    "    def __init__(self, currentConfig, etatTemporaireString):\n",
    "        self.currentConfig = currentConfig\n",
    "        self.saveTemporaireString = currentConfig.etat\n",
    "        self.etatTemporaireString = etatTemporaireString\n",
    "    def __enter__(self):\n",
    "        self.currentConfig.etat = self.etatTemporaireString\n",
    "        print(\"Actif\")\n",
    "    def __exit__(self, exc_type, exc_value, traceback):\n",
    "        self.currentConfig.etat = self.saveTemporaireString \n",
    "        print(\"rEstauré\")\n",
    "        \n",
    "config = Config()\n",
    "print(config.etat)\n",
    "with ConfigManager(config, \"17h30\"):\n",
    "    print(\" a lintérieur \")\n",
    "with ConfigManager(config, \"18h30\"):\n",
    "    print(\" a lintérieur \")"
   ]
  },
  {
   "cell_type": "code",
   "execution_count": 18,
   "id": "838331d5-ec12-4f20-9a76-e55b78209000",
   "metadata": {},
   "outputs": [
    {
     "name": "stdout",
     "output_type": "stream",
     "text": [
      "normal\n",
      "Actif\n",
      " a lintérieur \n",
      "No erro\n",
      "rEstauré\n",
      "Actif\n",
      " a lintérieur \n",
      "No erro\n",
      "rEstauré\n"
     ]
    }
   ],
   "source": [
    "from contextlib import contextmanager\n",
    "\n",
    "config = Config()\n",
    "print(config.etat)\n",
    "\n",
    "@contextmanager\n",
    "def mettre_etat_temporaire(currentConfig, etatTemporaire):\n",
    "    saveEtatTemporaire = currentConfig.etat\n",
    "    currentConfig.etat = etatTemporaire\n",
    "    print(\"Actif\")\n",
    "    try:\n",
    "        yield\n",
    "    except Exception as e:\n",
    "        print(f\"{e}\")\n",
    "    else:\n",
    "        print(\"No erro\")\n",
    "    finally:\n",
    "        currentConfig.etat = saveEtatTemporaire\n",
    "        print(\"rEstauré\")\n",
    "        \n",
    "with mettre_etat_temporaire(config, \"17h30\"):\n",
    "    print(\" a lintérieur \")\n",
    "    \n",
    "with mettre_etat_temporaire(config, \"18h30\"):\n",
    "    print(\" a lintérieur \")\n",
    "        \n",
    "    "
   ]
  },
  {
   "cell_type": "code",
   "execution_count": 24,
   "id": "74252c63-99bd-4a0f-a03b-798eed149f6a",
   "metadata": {},
   "outputs": [],
   "source": [
    "from contextlib import suppress\n",
    "\n",
    "with suppress(FileNotFoundError), open(\"./fichier_introuvable.txt\") as file:\n",
    "    for line in file:\n",
    "        print(line.strip())\n",
    "    "
   ]
  },
  {
   "cell_type": "code",
   "execution_count": 34,
   "id": "751ccc1d-b3f9-47ba-b726-f2e2ceb8fe2c",
   "metadata": {},
   "outputs": [
    {
     "name": "stdout",
     "output_type": "stream",
     "text": [
      " Output : Valeur à redirigé\n",
      "\n",
      " Output : Error à redirigé\n",
      "\n"
     ]
    }
   ],
   "source": [
    "from contextlib import redirect_stdout, redirect_stderr\n",
    "import sys\n",
    "import io\n",
    "\n",
    "with io.StringIO() as buf, redirect_stdout(buf):\n",
    "    print(\"Valeur à redirigé\")\n",
    "    output = buf.getvalue()\n",
    "        \n",
    "print(f\" Output : {output}\")\n",
    "\n",
    "with io.StringIO() as buf, redirect_stderr(buf):\n",
    "    print(\"Error à redirigé\", file=sys.stderr)\n",
    "    output = buf.getvalue()\n",
    "        \n",
    "print(f\" Output : {output}\")"
   ]
  },
  {
   "cell_type": "code",
   "execution_count": 40,
   "id": "beb2b193-94bd-4e61-b1d7-92b942c2903e",
   "metadata": {},
   "outputs": [
    {
     "name": "stdout",
     "output_type": "stream",
     "text": [
      "Preparation du context de la DB\n",
      "Envoir donnée à la DB\n",
      "Nettoyage du contexte de la DB\n"
     ]
    }
   ],
   "source": [
    "from contextlib import closing\n",
    "class FakeDbConnection:\n",
    "    def __init__(self):\n",
    "        print(\"Preparation du context de la DB\")\n",
    "    def close(self):\n",
    "        print(\"Nettoyage du contexte de la DB\")\n",
    "    def send(self, value):\n",
    "        print(value)\n",
    "\"\"\"\n",
    "connection = FakeDbConnection()\n",
    "try:\n",
    "    connection.send(\"Envoir donnée à la DB\")\n",
    "finally:\n",
    "    connection.close()\n",
    "\"\"\"\n",
    "with closing(FakeDbConnection()) as connection:\n",
    "    connection.send(\"Envoir donnée à la DB\")"
   ]
  },
  {
   "cell_type": "code",
   "execution_count": null,
   "id": "40ecffad-4497-4652-8924-3577390dab85",
   "metadata": {},
   "outputs": [],
   "source": []
  }
 ],
 "metadata": {
  "kernelspec": {
   "display_name": "Python 3 (ipykernel)",
   "language": "python",
   "name": "python3"
  },
  "language_info": {
   "codemirror_mode": {
    "name": "ipython",
    "version": 3
   },
   "file_extension": ".py",
   "mimetype": "text/x-python",
   "name": "python",
   "nbconvert_exporter": "python",
   "pygments_lexer": "ipython3",
   "version": "3.12.0"
  }
 },
 "nbformat": 4,
 "nbformat_minor": 5
}
